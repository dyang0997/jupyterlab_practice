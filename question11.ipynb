{
 "cells": [
  {
   "cell_type": "markdown",
   "id": "73a4e160-a2cb-4824-8a7c-a21600881b88",
   "metadata": {
    "tags": []
   },
   "source": [
    "# David Yang\n",
    "Notebook for assignment 7\n"
   ]
  },
  {
   "cell_type": "code",
   "execution_count": 1,
   "id": "d18e8755-6d71-4362-a7f2-8bac921a7cab",
   "metadata": {},
   "outputs": [
    {
     "name": "stdout",
     "output_type": "stream",
     "text": [
      "5.0\n"
     ]
    }
   ],
   "source": [
    "def compute_mean(numerical_list):\n",
    "    mean = sum(numerical_list) / len(numerical_list)\n",
    "    print(mean)\n",
    "\n",
    "compute_mean([2, 4, 6, 8])"
   ]
  },
  {
   "cell_type": "markdown",
   "id": "5ee7d34d-a0e9-4090-8966-5953e2a6438e",
   "metadata": {},
   "source": [
    "The code above computes the mean of the values in a list and prints the results. The function compute_mean() the sum of a set of values divide it by the number of values in the set. See equation below:\n",
    "\n",
    "$$\n",
    "\\bar{x} = \\frac{x_1 + x_2 + \\cdots + x_n}{n} = \\frac{1}{n}\\Bigg( \\sum_{i=1}^{n}x_i \\Bigg )\n",
    "$$"
   ]
  }
 ],
 "metadata": {
  "kernelspec": {
   "display_name": "Python 3 (ipykernel)",
   "language": "python",
   "name": "python3"
  },
  "language_info": {
   "codemirror_mode": {
    "name": "ipython",
    "version": 3
   },
   "file_extension": ".py",
   "mimetype": "text/x-python",
   "name": "python",
   "nbconvert_exporter": "python",
   "pygments_lexer": "ipython3",
   "version": "3.10.9"
  }
 },
 "nbformat": 4,
 "nbformat_minor": 5
}
